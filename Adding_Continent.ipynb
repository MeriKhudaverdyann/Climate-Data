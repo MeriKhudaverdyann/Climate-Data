{
 "cells": [
  {
   "cell_type": "markdown",
   "id": "7752c568-95cb-47dd-aa0f-6b3248861d6d",
   "metadata": {},
   "source": [
    "For july data"
   ]
  },
  {
   "cell_type": "code",
   "execution_count": 19,
   "id": "03b529de-2e91-4e5c-80ce-5ccb76c5f5bd",
   "metadata": {},
   "outputs": [
    {
     "name": "stdout",
     "output_type": "stream",
     "text": [
      "     Cluster location_name           country\n",
      "0          0        Lusaka            Zambia\n",
      "1          0       Mbabane          Eswatini\n",
      "2          0        Maseru           Lesotho\n",
      "3          0        Maputo        Mozambique\n",
      "4          0        Manama           Bahrain\n",
      "..       ...           ...               ...\n",
      "191        1        Majuro  Marshall Islands\n",
      "192        2      Santiago             Chile\n",
      "193        2  Kuala Lumpur          Malaysia\n",
      "194        2       Beijing             China\n",
      "195        2       Jakarta         Indonesia\n",
      "\n",
      "[196 rows x 3 columns]\n"
     ]
    }
   ],
   "source": [
    "import pandas as pd\n",
    "\n",
    "# File paths\n",
    "july_data_path = r\"D:\\User\\Final\\july_cluster.csv\"\n",
    "data = r\"D:\\User\\Final\\AgroFoodEnhancedClimateDataCorrected.csv\"\n",
    "\n",
    "# Loading datasets\n",
    "df1 = pd.read_csv(july_data_path)\n",
    "df2 = pd.read_csv(data)\n",
    "\n",
    "# Dropping duplicates in df2 based on 'location_name' to avoid multiple matches\n",
    "df2 = df2.drop_duplicates(subset=['location_name'])\n",
    "\n",
    "# Merging on the 'location_name' column with a left join\n",
    "merged_df = pd.merge(df1, df2, on='location_name', how='left')\n",
    "\n",
    "# Keeping only 'location_name' and 'country' columns\n",
    "merged_df = merged_df[['Cluster', 'location_name', 'country']]\n",
    "\n",
    "# Save the result to a new CSV file\n",
    "merged_df.to_csv(\"Locations_in_july.csv\", index=False)\n",
    "print(merged_df)\n"
   ]
  },
  {
   "cell_type": "code",
   "execution_count": 20,
   "id": "52e987a5-70f5-4e51-8233-b54c07934546",
   "metadata": {},
   "outputs": [
    {
     "name": "stdout",
     "output_type": "stream",
     "text": [
      "Continent column added and file saved as 'july_with_continent.csv'\n"
     ]
    }
   ],
   "source": [
    "import pandas as pd\n",
    "\n",
    "# Load the data\n",
    "file_path = r\"D:\\User\\Final\\Locations_in_july.csv\"\n",
    "data = pd.read_csv(file_path)\n",
    "\n",
    "# Install required packages if not installed\n",
    "try:\n",
    "    import pycountry_convert as pc\n",
    "except ImportError:\n",
    "    import sys\n",
    "    !{sys.executable} -m pip install pycountry pycountry-convert\n",
    "    import pycountry_convert as pc\n",
    "\n",
    "# Function to map country names to continent names\n",
    "def country_to_continent(country_name):\n",
    "    try:\n",
    "        # Get the country code (alpha_2) from the country name\n",
    "        country_code = pc.country_name_to_country_alpha2(country_name, cn_name_format=\"default\")\n",
    "        # Convert the country code to continent code\n",
    "        continent_code = pc.country_alpha2_to_continent_code(country_code)\n",
    "        # Map continent code to continent name\n",
    "        continent_name = pc.convert_continent_code_to_continent_name(continent_code)\n",
    "        return continent_name\n",
    "    except:\n",
    "        return None  # Return None if the country name isn't found\n",
    "\n",
    "# Apply the function to the 'country' column\n",
    "data['continent'] = data['country'].apply(country_to_continent)\n",
    "\n",
    "# Save the updated DataFrame to a new CSV file\n",
    "output_path = 'Locations_with_continent_in_july.csv'\n",
    "data.to_csv(output_path, index=False)"
   ]
  },
  {
   "cell_type": "code",
   "execution_count": 32,
   "id": "071d05c2-9eae-4099-8dee-52537ba01167",
   "metadata": {},
   "outputs": [
    {
     "name": "stdout",
     "output_type": "stream",
     "text": [
      "     Cluster location_name           country      continent\n",
      "0          0        Lusaka            Zambia         Africa\n",
      "1          0       Mbabane          Eswatini         Africa\n",
      "2          0        Maseru           Lesotho         Africa\n",
      "3          0        Maputo        Mozambique         Africa\n",
      "4          0        Manama           Bahrain           Asia\n",
      "..       ...           ...               ...            ...\n",
      "191        1        Majuro  Marshall Islands        Oceania\n",
      "192        2      Santiago             Chile  South America\n",
      "193        2  Kuala Lumpur          Malaysia           Asia\n",
      "194        2       Beijing             China           Asia\n",
      "195        2       Jakarta         Indonesia           Asia\n",
      "\n",
      "[196 rows x 4 columns]\n"
     ]
    }
   ],
   "source": [
    "import pandas as pd\n",
    "\n",
    "# Load the CSV file\n",
    "file_path = r\"D:\\User\\Final\\Locations_with_continent_in_july.csv\"\n",
    "data = pd.read_csv(file_path)\n",
    "\n",
    "# Create DataFrame\n",
    "df = pd.DataFrame(data)\n",
    "\n",
    "# Function to map countries to continents\n",
    "def fill_continent(country):\n",
    "    continent_mapping = {\n",
    "        'Myanmar (Burma)': 'Asia',\n",
    "        'Timor-Leste': 'Asia',\n",
    "        'The Gambia': 'Africa',\n",
    "        'The Bahamas': 'North America'\n",
    "    }\n",
    "    return continent_mapping.get(country, None)  # Return None if country not found\n",
    "\n",
    "# Apply the function to fill the continent column if it is None\n",
    "df['continent'] = df.apply(lambda row: fill_continent(row['country']) if pd.isnull(row['continent']) else row['continent'], axis=1)\n",
    "\n",
    "df.to_csv('Locations_with_continent_in_july.csv')\n",
    "# Display the updated DataFrame\n",
    "print(df)\n"
   ]
  },
  {
   "cell_type": "markdown",
   "id": "adbd3b3e-975b-45d4-aecb-2e7dd58d2197",
   "metadata": {},
   "source": [
    "For september data"
   ]
  },
  {
   "cell_type": "code",
   "execution_count": 21,
   "id": "43310a6b-94d4-4669-b651-96a1608854e5",
   "metadata": {},
   "outputs": [
    {
     "name": "stdout",
     "output_type": "stream",
     "text": [
      "     Cluster location_name     country\n",
      "0          0        Zagreb     Croatia\n",
      "1          0     Podgorica  Montenegro\n",
      "2          0      Dushanbe  Tajikistan\n",
      "3          0         Sanaa       Yemen\n",
      "4          0        Dodoma    Tanzania\n",
      "..       ...           ...         ...\n",
      "190        2          Doha       Qatar\n",
      "191        2      Santiago       Chile\n",
      "192        2     New Delhi       India\n",
      "193        2        Manama     Bahrain\n",
      "194        2      National     Bolivia\n",
      "\n",
      "[195 rows x 3 columns]\n"
     ]
    }
   ],
   "source": [
    "import pandas as pd\n",
    "\n",
    "# File paths\n",
    "september_data_path = r\"D:\\User\\Final\\september_cluster.csv\"\n",
    "data = r\"D:\\User\\Final\\AgroFoodEnhancedClimateDataCorrected.csv\"\n",
    "\n",
    "# Loading datasets\n",
    "df1 = pd.read_csv(september_data_path)\n",
    "df2 = pd.read_csv(data)\n",
    "\n",
    "# Dropping duplicates in df2 based on 'location_name' to avoid multiple matches\n",
    "df2 = df2.drop_duplicates(subset=['location_name'])\n",
    "\n",
    "# Merging on the 'location_name' column with a left join\n",
    "merged_df = pd.merge(df1, df2, on='location_name', how='left')\n",
    "\n",
    "# Keeping only 'location_name' and 'country' columns\n",
    "merged_df = merged_df[['Cluster', 'location_name', 'country']]\n",
    "\n",
    "# Save the result to a new CSV file\n",
    "merged_df.to_csv(\"Locations_in_september.csv\", index=False)\n",
    "print(merged_df)\n"
   ]
  },
  {
   "cell_type": "code",
   "execution_count": 22,
   "id": "9cdb84b0-3dba-4013-8b5e-18c595b272d8",
   "metadata": {},
   "outputs": [],
   "source": [
    "import pandas as pd\n",
    "\n",
    "# Load the data\n",
    "file_path = r\"D:\\User\\Final\\Locations_in_september.csv\"\n",
    "data = pd.read_csv(file_path)\n",
    "\n",
    "# Install required packages if not installed\n",
    "try:\n",
    "    import pycountry_convert as pc\n",
    "except ImportError:\n",
    "    import sys\n",
    "    !{sys.executable} -m pip install pycountry pycountry-convert\n",
    "    import pycountry_convert as pc\n",
    "\n",
    "# Function to map country names to continent names\n",
    "def country_to_continent(country_name):\n",
    "    try:\n",
    "        # Get the country code (alpha_2) from the country name\n",
    "        country_code = pc.country_name_to_country_alpha2(country_name, cn_name_format=\"default\")\n",
    "        # Convert the country code to continent code\n",
    "        continent_code = pc.country_alpha2_to_continent_code(country_code)\n",
    "        # Map continent code to continent name\n",
    "        continent_name = pc.convert_continent_code_to_continent_name(continent_code)\n",
    "        return continent_name\n",
    "    except:\n",
    "        return None  # Return None if the country name isn't found\n",
    "\n",
    "# Apply the function to the 'country' column\n",
    "data['continent'] = data['country'].apply(country_to_continent)\n",
    "\n",
    "# Save the updated DataFrame to a new CSV file\n",
    "output_path = 'Locations_with_continent_in_september.csv'\n",
    "data.to_csv(output_path, index=False)\n"
   ]
  },
  {
   "cell_type": "code",
   "execution_count": 33,
   "id": "1f5673dd-ed8c-41c2-99fc-1e71e5dd855b",
   "metadata": {},
   "outputs": [
    {
     "name": "stdout",
     "output_type": "stream",
     "text": [
      "     Unnamed: 0.1  Cluster location_name     country      continent\n",
      "0               0        0        Zagreb     Croatia         Europe\n",
      "1               1        0     Podgorica  Montenegro         Europe\n",
      "2               2        0      Dushanbe  Tajikistan           Asia\n",
      "3               3        0         Sanaa       Yemen           Asia\n",
      "4               4        0        Dodoma    Tanzania         Africa\n",
      "..            ...      ...           ...         ...            ...\n",
      "190           190        2          Doha       Qatar           Asia\n",
      "191           191        2      Santiago       Chile  South America\n",
      "192           192        2     New Delhi       India           Asia\n",
      "193           193        2        Manama     Bahrain           Asia\n",
      "194           194        2      National     Bolivia  South America\n",
      "\n",
      "[195 rows x 5 columns]\n"
     ]
    }
   ],
   "source": [
    "import pandas as pd\n",
    "\n",
    "# Load the CSV file\n",
    "file_path = r\"D:\\User\\Final\\Locations_with_continent_in_september.csv\"\n",
    "data = pd.read_csv(file_path)\n",
    "\n",
    "# Create DataFrame\n",
    "df = pd.DataFrame(data)\n",
    "\n",
    "# Function to map countries to continents\n",
    "def fill_continent(country):\n",
    "    continent_mapping = {\n",
    "        'Myanmar (Burma)': 'Asia',\n",
    "        'Timor-Leste': 'Asia',\n",
    "        'The Gambia': 'Africa',\n",
    "        'The Bahamas': 'North America'\n",
    "    }\n",
    "    return continent_mapping.get(country, None)  # Return None if country not found\n",
    "\n",
    "# Apply the function to fill the continent column if it is None\n",
    "df['continent'] = df.apply(lambda row: fill_continent(row['country']) if pd.isnull(row['continent']) else row['continent'], axis=1)\n",
    "\n",
    "df.to_csv('Locations_with_continent_in_september.csv')\n",
    "# Display the updated DataFrame\n",
    "print(df)\n"
   ]
  }
 ],
 "metadata": {
  "kernelspec": {
   "display_name": "Python 3 (ipykernel)",
   "language": "python",
   "name": "python3"
  },
  "language_info": {
   "codemirror_mode": {
    "name": "ipython",
    "version": 3
   },
   "file_extension": ".py",
   "mimetype": "text/x-python",
   "name": "python",
   "nbconvert_exporter": "python",
   "pygments_lexer": "ipython3",
   "version": "3.11.7"
  }
 },
 "nbformat": 4,
 "nbformat_minor": 5
}
